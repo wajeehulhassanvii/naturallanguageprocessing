{
 "cells": [
  {
   "cell_type": "markdown",
   "metadata": {},
   "source": [
    "**Knowledge Bases** are organized info, easy for people to access. In recent decades **Expert Systems** became obsolete and **Knowledge Bases** become mainstream due to **NLP**"
   ]
  },
  {
   "cell_type": "markdown",
   "metadata": {},
   "source": [
    "An **expert system** is a system that attempts to use knowledge to make decisions. This knowledge is entities, relationships between entities, and rules. Generally, they had inference engines which allowed the software to utilize the knowledge base to make a decision. These are sometimes as described as collections of if-then rules. However, these systems were much more complicated than this. The knowledge bases and rule sets could be quite large for the technology of the time, so the inference engines needed to be able to efficiently evaluate many logical statements.\n",
    "<br>Generally, an expert system has a number of actions it can take. There are rules for which action it should take. When the time to take an action comes, the system has a collection of statements, and must use these to identify the best action. For example, let’s say we have an expert system for controling the temperature in a house. We need to to be able to make decisions based on temperature and time. Whenever the system makes a decision to toggle the hearter, or air conditioner, or do nothing it must take the current temperature (or perhaps a collection of temperature measurements) and the current time combined with the rule set to determine what action to take. This system has a small number of entities, the temperatures and the time. Imagine if a system had thousands of entities, with multiple kinds of relationships, and a growing rule set. Resolving the statements available at decision time in a knowledge base this large can be expensive."
   ]
  },
  {
   "cell_type": "markdown",
   "metadata": {},
   "source": [
    "We will be building a knowledge base. We want a tool for building a knowledge base from a wiki, and a tool for querying the knowledge base. This system should fit on a single machine now. We also want to be able to update the knowledge base with new kinds of entities, and relationships. Such a system could be used by a domain expert in exploring a topic, or could be integrated with an expert system. This means that it should have a Human usable interface, and a responsive API. \n",
    "<br>Our fictional scenario is a company that is building a machine learning platform. This company primarily sells to other businesses. The sales engineers sometimes fall out of sync with the current state of the system. The engineers are good and update the wiki where appropriate, but the sales engineers are having a hard time keeping up-to-date. The sales engineers create help tickets for engineers to help them update sales demos. The engineers do not like this. So this application will be used to create a knowledge base that will make it easier for the sales engineers to check out what may have changed."
   ]
  },
  {
   "cell_type": "code",
   "execution_count": null,
   "metadata": {},
   "outputs": [],
   "source": []
  }
 ],
 "metadata": {
  "kernelspec": {
   "display_name": "Python 3",
   "language": "python",
   "name": "python3"
  },
  "language_info": {
   "codemirror_mode": {
    "name": "ipython",
    "version": 3
   },
   "file_extension": ".py",
   "mimetype": "text/x-python",
   "name": "python",
   "nbconvert_exporter": "python",
   "pygments_lexer": "ipython3",
   "version": "3.7.6"
  }
 },
 "nbformat": 4,
 "nbformat_minor": 4
}
