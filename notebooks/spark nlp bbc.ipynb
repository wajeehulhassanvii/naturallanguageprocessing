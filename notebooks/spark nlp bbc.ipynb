{
 "cells": [
  {
   "cell_type": "code",
   "execution_count": 1,
   "metadata": {},
   "outputs": [],
   "source": [
    "import pandas as pd\n",
    "import numpy as np\n",
    "import matplotlib.pyplot as plt\n",
    "import seaborn as sns"
   ]
  },
  {
   "cell_type": "code",
   "execution_count": 2,
   "metadata": {},
   "outputs": [],
   "source": [
    "df_dawn = pd.read_csv(\"../datasets/dawn_news_headline/categories_data.csv\")"
   ]
  },
  {
   "cell_type": "code",
   "execution_count": 3,
   "metadata": {},
   "outputs": [
    {
     "name": "stdout",
     "output_type": "stream",
     "text": [
      "Unprecedented briefing planned by Taliban\n",
      "Economic decisions taken by cabinet ignored\n",
      "Crisis called Pakistan`s Katrina Kerry urges world to extend more help\n",
      "The unbearable lightness of Pakistan cricket\n",
      "Pakistan cricket dealt another hard blow\n",
      "Seven US troops  politician killed in Afghan attacks\n",
      "Dadu under stress\n",
      "Naval airbase  grid station hit Sujawal town goes under water\n",
      "Appropriate punishment if charges proved: ICC\n",
      "SC extends term of 32 Judges\n",
      "Sindh AG calls for scrapping of Objectives Resolution\n",
      "Absence of local govt felt in coping with crisis\n",
      "Govt decides to convene CCI meeting this week\n",
      "Town near Larkana under water; Thatta out of danger\n",
      "Govt likely to seek moratorium on IMF loan\n",
      "Boy shot dead\n",
      "India kills 9 `infiltrators`\n",
      "Appointment of ZTBL chief unlawful: LHC\n",
      "Floods inflict Rs4bn loss on Railways\n",
      "The `fake sheikh` who shook cricket\n",
      "ATC rejects Lakhvi`s bail plea\n",
      "IMF insists on tax  energy reforms\n",
      "3 arrested  grilled and bailed in cricket probe\n",
      "40 `militants` killed in Tirah\n",
      "Military officers cancel trip after humiliation at US airport\n",
      "Jati  Shah Bandar facing threat\n",
      "`PM`s role in judges` selection curtailed`\n",
      "Irrigation officials detained over canal cut spat\n",
      "Kerosene and diesel prices increased\n",
      "Proposal being discussed with IMF Flood tax on imports and income likely\n",
      "Afghan concern legitimate  says Petraeus\n",
      "Former DPO arrested in Sialkot case\n",
      "Official given Â£6 000 to join golf club\n",
      "Difficulties in living off others` generosity\n",
      "India raises flood donation offer to $25m\n",
      "MQM to table land reforms bill in parliament\n",
      "Flood relief funds PML-N gears up for battle in NA\n",
      "Khairpur Nathan Shah under threat\n",
      "Inflation spike  job losses feared Flood loss estimates rise to $43bn: PM $43bn: PM\n",
      "Lynched brothers were not criminals: inquiry\n",
      "20 held after attack in Karachi\n",
      "Religious procession attacked in Lahore Triple terror blasts leave 27 dead\n",
      "Four in run for post of Sindh chief secretary\n",
      "US blacklists Hakimullah\n",
      "US to utilise Iraq resources along Afghan border\n",
      "15 militants killed in Kurram air strikes\n",
      "Arrest politically motivated  says PML-N Nawaz`s brother-in-law held in cooperatives scam case\n",
      "Summit on gas project discussed with Turkmenistan\n",
      "KP to challenge flood damage figures of Punjab  Sindh\n",
      "SC thinks government doesn`t have `good` advisers\n",
      "Local govt minister Thaheem dies\n",
      "SC sends top NAB officials packing\n",
      "Single-dose malaria drug developed\n",
      "Malik against religious gatherings in the open\n",
      "Indus Highway closure paralyses upper Sindh: Floodwaters enter two more towns\n",
      "3 cricketers charged under ICC corruption code\n",
      "World Bank  IMF agree to give $550m\n",
      "US apologises for military officers` mistreatment\n",
      "Flow of aid has stalled  says UN\n",
      "Woman teacher shot dead\n",
      "Grief  anger mark NA session\n",
      "Deadline set for arrest of four Sialkot policemen\n",
      "Reserved seats: SC questions election process\n",
      "Aid requirement for critical needs goes unmet\n",
      "Trade preference sought from EU  US\n",
      "UN to step up relief work in Balochistan\n",
      "Six jailed in Portugal child abuse trial\n",
      "NA accord after discord — a boost to govt\n",
      "US renews support for democratic set-up\n",
      "Floods ravage K.N. Shah  threaten three towns\n",
      "Ahmedis attacked in Mardan\n",
      "Suicide bomber strikes Al Quds rally; at least 56 killed  160 injured Carnage in Quetta\n",
      "Driver killed  seven journalists injured\n",
      "TTP claims Quetta  Lahore attacks\n",
      "Plan to hike electricity tariff put off\n",
      "Flood loss worse than depicted: Mullen\n",
      "Drone strikes kill 10\n",
      "President didn`t comment on Altaf`s remarks: Babar Drone strikes kill 10\n",
      "Muslims told to use zakat for flood help\n",
      "Safe havens across the border a big problem: Gates\n",
      "FAO plans meeting on food prices\n",
      "Zardari wants foreign aid details placed on website\n",
      "CJ`s help sought against water shortage\n",
      "Worst corruption case since Cronje: ICC\n",
      "40 villages flooded near Dadu\n",
      "Judicial appointment process under fire\n",
      "Karzai forms body for talks with Taliban\n",
      "Quetta suicide attack toll rises to 65\n",
      "Gilani briefs NA on flood rehabilitation plan CCI to consider Nawaz proposal\n",
      "`Almost every match is fixed`  alleges Yasir\n",
      "Eight killed in drone attack\n",
      "MQM plans to move secretariat to Dubai\n",
      "Blackwater created shell companies  says NYT\n",
      "Militants stoking sectarianism\n",
      "2m children face measles  polio threat: Unicef\n",
      "Malik talks to Indian ambassador  minister India asked to help quicken Mumbai suspects` trial\n",
      "14 militants killed\n",
      "`German planned Europe attacks`\n",
      "Journalist kidnapped  tortured\n",
      "Shoes  eggs hurled at Blair in Ireland\n"
     ]
    }
   ],
   "source": [
    "for x in df_dawn.Headline.values[0:100]:\n",
    "    print(x)"
   ]
  },
  {
   "cell_type": "code",
   "execution_count": 4,
   "metadata": {},
   "outputs": [],
   "source": [
    "from collections import defaultdict, Counter, OrderedDict\n",
    "\n",
    "from wordcloud import WordCloud\n",
    "\n",
    "%matplotlib inline\n",
    "\n",
    "import nltk\n",
    "from nltk.corpus import stopwords"
   ]
  },
  {
   "cell_type": "code",
   "execution_count": 5,
   "metadata": {},
   "outputs": [
    {
     "name": "stderr",
     "output_type": "stream",
     "text": [
      "[nltk_data] Downloading package stopwords to ../resources/nltk/...\n",
      "[nltk_data]   Package stopwords is already up-to-date!\n"
     ]
    },
    {
     "data": {
      "text/plain": [
       "True"
      ]
     },
     "execution_count": 5,
     "metadata": {},
     "output_type": "execute_result"
    }
   ],
   "source": [
    "nltk.download('stopwords', download_dir=\"../resources/nltk/\")"
   ]
  },
  {
   "cell_type": "code",
   "execution_count": 6,
   "metadata": {},
   "outputs": [],
   "source": [
    "en_stopwords = set(stopwords.words('english'))"
   ]
  },
  {
   "cell_type": "code",
   "execution_count": 7,
   "metadata": {},
   "outputs": [],
   "source": [
    "def detokenize_sentence(sentence):\n",
    "    text = ''\n",
    "    for token in sentence.split(\" \"):\n",
    "        if text and any(c.isalnum() for c in token):\n",
    "            text += ' '\n",
    "        text += token\n",
    "    return text"
   ]
  },
  {
   "cell_type": "code",
   "execution_count": 8,
   "metadata": {},
   "outputs": [
    {
     "data": {
      "text/plain": [
       "'Economic decisions taken by cabinet ignored'"
      ]
     },
     "execution_count": 8,
     "metadata": {},
     "output_type": "execute_result"
    }
   ],
   "source": [
    "detokenize_sentence(df_dawn.Headline[1])"
   ]
  },
  {
   "cell_type": "code",
   "execution_count": 9,
   "metadata": {},
   "outputs": [],
   "source": [
    "def process(sentence):\n",
    "    terms = []\n",
    "    for term in sentence:\n",
    "        term = term.lower()\n",
    "        if term not in en_stopwords and term.isalnum():\n",
    "            terms.append(term)\n",
    "    return terms"
   ]
  },
  {
   "cell_type": "code",
   "execution_count": 10,
   "metadata": {},
   "outputs": [],
   "source": [
    "from nltk.corpus import brown"
   ]
  },
  {
   "cell_type": "code",
   "execution_count": 11,
   "metadata": {},
   "outputs": [
    {
     "name": "stderr",
     "output_type": "stream",
     "text": [
      "[nltk_data] Downloading package brown to /home/wajeeh-\n",
      "[nltk_data]     machine/nltk_data...\n",
      "[nltk_data]   Package brown is already up-to-date!\n"
     ]
    },
    {
     "data": {
      "text/plain": [
       "True"
      ]
     },
     "execution_count": 11,
     "metadata": {},
     "output_type": "execute_result"
    }
   ],
   "source": [
    "nltk.download('brown')"
   ]
  },
  {
   "cell_type": "code",
   "execution_count": 12,
   "metadata": {},
   "outputs": [
    {
     "data": {
      "text/plain": [
       "'558149'"
      ]
     },
     "execution_count": 12,
     "metadata": {},
     "output_type": "execute_result"
    }
   ],
   "source": [
    "df_dawn.Link_news[1].split(\"/\")[4]"
   ]
  },
  {
   "cell_type": "code",
   "execution_count": 13,
   "metadata": {},
   "outputs": [],
   "source": [
    "df_dawn['doc_id'] = df_dawn.Link_news.apply(lambda x: x.split(\"/\")[4])"
   ]
  },
  {
   "cell_type": "code",
   "execution_count": 14,
   "metadata": {},
   "outputs": [],
   "source": [
    "import re"
   ]
  },
  {
   "cell_type": "code",
   "execution_count": 15,
   "metadata": {},
   "outputs": [],
   "source": [
    "df_dawn.Headline = df_dawn.Headline.apply(lambda x: re.sub(r'[^A-Za-z]+', ' ', x).lower())"
   ]
  },
  {
   "cell_type": "code",
   "execution_count": 16,
   "metadata": {},
   "outputs": [
    {
     "data": {
      "text/html": [
       "<div>\n",
       "<style scoped>\n",
       "    .dataframe tbody tr th:only-of-type {\n",
       "        vertical-align: middle;\n",
       "    }\n",
       "\n",
       "    .dataframe tbody tr th {\n",
       "        vertical-align: top;\n",
       "    }\n",
       "\n",
       "    .dataframe thead th {\n",
       "        text-align: right;\n",
       "    }\n",
       "</style>\n",
       "<table border=\"1\" class=\"dataframe\">\n",
       "  <thead>\n",
       "    <tr style=\"text-align: right;\">\n",
       "      <th></th>\n",
       "      <th>PageType</th>\n",
       "      <th>Link_paper</th>\n",
       "      <th>Date</th>\n",
       "      <th>Link_news</th>\n",
       "      <th>Headline</th>\n",
       "      <th>doc_id</th>\n",
       "    </tr>\n",
       "  </thead>\n",
       "  <tbody>\n",
       "    <tr>\n",
       "      <th>0</th>\n",
       "      <td>front-page</td>\n",
       "      <td>https://www.dawn.com/newspaper/front-page/2010...</td>\n",
       "      <td>2010-08-30</td>\n",
       "      <td>https://www.dawn.com/news/558270/unprecedented...</td>\n",
       "      <td>unprecedented briefing planned by taliban</td>\n",
       "      <td>558270</td>\n",
       "    </tr>\n",
       "    <tr>\n",
       "      <th>1</th>\n",
       "      <td>front-page</td>\n",
       "      <td>https://www.dawn.com/newspaper/front-page/2010...</td>\n",
       "      <td>2010-08-30</td>\n",
       "      <td>https://www.dawn.com/news/558149/economic-deci...</td>\n",
       "      <td>economic decisions taken by cabinet ignored</td>\n",
       "      <td>558149</td>\n",
       "    </tr>\n",
       "    <tr>\n",
       "      <th>2</th>\n",
       "      <td>front-page</td>\n",
       "      <td>https://www.dawn.com/newspaper/front-page/2010...</td>\n",
       "      <td>2010-08-30</td>\n",
       "      <td>https://www.dawn.com/news/558148/crisis-called...</td>\n",
       "      <td>crisis called pakistan s katrina kerry urges w...</td>\n",
       "      <td>558148</td>\n",
       "    </tr>\n",
       "    <tr>\n",
       "      <th>3</th>\n",
       "      <td>front-page</td>\n",
       "      <td>https://www.dawn.com/newspaper/front-page/2010...</td>\n",
       "      <td>2010-08-30</td>\n",
       "      <td>https://www.dawn.com/news/558131/the-unbearabl...</td>\n",
       "      <td>the unbearable lightness of pakistan cricket</td>\n",
       "      <td>558131</td>\n",
       "    </tr>\n",
       "    <tr>\n",
       "      <th>4</th>\n",
       "      <td>front-page</td>\n",
       "      <td>https://www.dawn.com/newspaper/front-page/2010...</td>\n",
       "      <td>2010-08-30</td>\n",
       "      <td>https://www.dawn.com/news/558130/pakistan-cric...</td>\n",
       "      <td>pakistan cricket dealt another hard blow</td>\n",
       "      <td>558130</td>\n",
       "    </tr>\n",
       "    <tr>\n",
       "      <th>...</th>\n",
       "      <td>...</td>\n",
       "      <td>...</td>\n",
       "      <td>...</td>\n",
       "      <td>...</td>\n",
       "      <td>...</td>\n",
       "      <td>...</td>\n",
       "    </tr>\n",
       "    <tr>\n",
       "      <th>19093</th>\n",
       "      <td>front-page</td>\n",
       "      <td>https://www.dawn.com/newspaper/front-page/2020...</td>\n",
       "      <td>2020-03-01</td>\n",
       "      <td>https://www.dawn.com/news/1537449/july-feb-tax...</td>\n",
       "      <td>july feb tax collection target missed by rs bn</td>\n",
       "      <td>1537449</td>\n",
       "    </tr>\n",
       "    <tr>\n",
       "      <th>19094</th>\n",
       "      <td>front-page</td>\n",
       "      <td>https://www.dawn.com/newspaper/front-page/2020...</td>\n",
       "      <td>2020-03-02</td>\n",
       "      <td>https://www.dawn.com/news/1537734/pakistan-wan...</td>\n",
       "      <td>pakistan wants us to keep eye on spoilers</td>\n",
       "      <td>1537734</td>\n",
       "    </tr>\n",
       "    <tr>\n",
       "      <th>19095</th>\n",
       "      <td>front-page</td>\n",
       "      <td>https://www.dawn.com/newspaper/front-page/2020...</td>\n",
       "      <td>2020-03-02</td>\n",
       "      <td>https://www.dawn.com/news/1537731/afghan-borde...</td>\n",
       "      <td>afghan border at chaman closed for seven days ...</td>\n",
       "      <td>1537731</td>\n",
       "    </tr>\n",
       "    <tr>\n",
       "      <th>19096</th>\n",
       "      <td>front-page</td>\n",
       "      <td>https://www.dawn.com/newspaper/front-page/2020...</td>\n",
       "      <td>2020-03-02</td>\n",
       "      <td>https://www.dawn.com/news/1537725/nepra-urges-...</td>\n",
       "      <td>nepra urges prime minister to declare power em...</td>\n",
       "      <td>1537725</td>\n",
       "    </tr>\n",
       "    <tr>\n",
       "      <th>19097</th>\n",
       "      <td>front-page</td>\n",
       "      <td>https://www.dawn.com/newspaper/front-page/2020...</td>\n",
       "      <td>2020-03-02</td>\n",
       "      <td>https://www.dawn.com/news/1537724/govt-to-lobb...</td>\n",
       "      <td>govt to lobby uk for nawaz s deportation</td>\n",
       "      <td>1537724</td>\n",
       "    </tr>\n",
       "  </tbody>\n",
       "</table>\n",
       "<p>19098 rows × 6 columns</p>\n",
       "</div>"
      ],
      "text/plain": [
       "         PageType                                         Link_paper  \\\n",
       "0      front-page  https://www.dawn.com/newspaper/front-page/2010...   \n",
       "1      front-page  https://www.dawn.com/newspaper/front-page/2010...   \n",
       "2      front-page  https://www.dawn.com/newspaper/front-page/2010...   \n",
       "3      front-page  https://www.dawn.com/newspaper/front-page/2010...   \n",
       "4      front-page  https://www.dawn.com/newspaper/front-page/2010...   \n",
       "...           ...                                                ...   \n",
       "19093  front-page  https://www.dawn.com/newspaper/front-page/2020...   \n",
       "19094  front-page  https://www.dawn.com/newspaper/front-page/2020...   \n",
       "19095  front-page  https://www.dawn.com/newspaper/front-page/2020...   \n",
       "19096  front-page  https://www.dawn.com/newspaper/front-page/2020...   \n",
       "19097  front-page  https://www.dawn.com/newspaper/front-page/2020...   \n",
       "\n",
       "             Date                                          Link_news  \\\n",
       "0      2010-08-30  https://www.dawn.com/news/558270/unprecedented...   \n",
       "1      2010-08-30  https://www.dawn.com/news/558149/economic-deci...   \n",
       "2      2010-08-30  https://www.dawn.com/news/558148/crisis-called...   \n",
       "3      2010-08-30  https://www.dawn.com/news/558131/the-unbearabl...   \n",
       "4      2010-08-30  https://www.dawn.com/news/558130/pakistan-cric...   \n",
       "...           ...                                                ...   \n",
       "19093  2020-03-01  https://www.dawn.com/news/1537449/july-feb-tax...   \n",
       "19094  2020-03-02  https://www.dawn.com/news/1537734/pakistan-wan...   \n",
       "19095  2020-03-02  https://www.dawn.com/news/1537731/afghan-borde...   \n",
       "19096  2020-03-02  https://www.dawn.com/news/1537725/nepra-urges-...   \n",
       "19097  2020-03-02  https://www.dawn.com/news/1537724/govt-to-lobb...   \n",
       "\n",
       "                                                Headline   doc_id  \n",
       "0              unprecedented briefing planned by taliban   558270  \n",
       "1            economic decisions taken by cabinet ignored   558149  \n",
       "2      crisis called pakistan s katrina kerry urges w...   558148  \n",
       "3           the unbearable lightness of pakistan cricket   558131  \n",
       "4               pakistan cricket dealt another hard blow   558130  \n",
       "...                                                  ...      ...  \n",
       "19093     july feb tax collection target missed by rs bn  1537449  \n",
       "19094         pakistan wants us to keep eye on spoilers   1537734  \n",
       "19095  afghan border at chaman closed for seven days ...  1537731  \n",
       "19096  nepra urges prime minister to declare power em...  1537725  \n",
       "19097           govt to lobby uk for nawaz s deportation  1537724  \n",
       "\n",
       "[19098 rows x 6 columns]"
      ]
     },
     "execution_count": 16,
     "metadata": {},
     "output_type": "execute_result"
    }
   ],
   "source": [
    "df_dawn"
   ]
  },
  {
   "cell_type": "code",
   "execution_count": 17,
   "metadata": {},
   "outputs": [],
   "source": [
    "docs = OrderedDict()\n",
    "\n",
    "for fid in brown.fileids():\n",
    "    docs[fid] = brown.sents(fid)"
   ]
  },
  {
   "cell_type": "code",
   "execution_count": 18,
   "metadata": {},
   "outputs": [
    {
     "data": {
      "text/plain": [
       "'cr09'"
      ]
     },
     "execution_count": 18,
     "metadata": {},
     "output_type": "execute_result"
    }
   ],
   "source": [
    "fid"
   ]
  },
  {
   "cell_type": "code",
   "execution_count": 19,
   "metadata": {},
   "outputs": [],
   "source": [
    "docs = OrderedDict()\n",
    "\n",
    "for fid in df_dawn.doc_id:\n",
    "    docs[fid] = df_dawn[df_dawn.doc_id == fid].Headline.apply(lambda x: x.split(\" \"))"
   ]
  },
  {
   "cell_type": "code",
   "execution_count": 20,
   "metadata": {},
   "outputs": [],
   "source": [
    "ix2doc = list(docs)\n",
    "doc2ix = {fid: i for i, fid in enumerate(ix2doc)}"
   ]
  },
  {
   "cell_type": "code",
   "execution_count": 21,
   "metadata": {},
   "outputs": [],
   "source": [
    "vocabulary = set()\n",
    "\n",
    "term_counts = defaultdict(Counter)\n",
    "document_counts = Counter()\n",
    "\n",
    "for fid, doc in docs.items():\n",
    "    unique_terms = set()\n",
    "    for sentences in doc:\n",
    "        sentence = process(sentences)\n",
    "        term_counts[fid].update(sentences)\n",
    "        unique_terms.update(sentence)\n",
    "    document_counts.update(unique_terms)\n",
    "    vocabulary.update(unique_terms)\n",
    "\n",
    "ix2term = sorted(list(vocabulary))\n",
    "term2ix = OrderedDict()\n",
    "\n",
    "for i, term in enumerate(ix2term):\n",
    "    term2ix[term.lower()] = i"
   ]
  },
  {
   "cell_type": "code",
   "execution_count": 22,
   "metadata": {},
   "outputs": [],
   "source": [
    "import scipy.sparse as sparse"
   ]
  },
  {
   "cell_type": "code",
   "execution_count": 23,
   "metadata": {},
   "outputs": [],
   "source": [
    "term_count_mat = sparse.dok_matrix((len(doc2ix), len(term2ix)))"
   ]
  },
  {
   "cell_type": "code",
   "execution_count": 24,
   "metadata": {},
   "outputs": [],
   "source": [
    "for fid, i in doc2ix.items():\n",
    "    for term, count in term_counts[fid].items():\n",
    "        if term not in en_stopwords and not \" \":\n",
    "            j = term2ix[term.lower()]\n",
    "            term_count_mat[i, j] = count\n",
    "term_count_mat = term_count_mat.todense()\n",
    "\n",
    "doc_count_vec = np.array([document_counts[term] for term in term2ix.keys()])"
   ]
  },
  {
   "cell_type": "code",
   "execution_count": 25,
   "metadata": {},
   "outputs": [],
   "source": [
    "tf = np.log(term_count_mat + 1)\n",
    "idf = len(doc2ix) / (1 + doc_count_vec)\n",
    "\n",
    "tfidf = np.multiply(tf, idf)"
   ]
  },
  {
   "cell_type": "code",
   "execution_count": 26,
   "metadata": {},
   "outputs": [
    {
     "data": {
      "text/plain": [
       "(17769, 10640)"
      ]
     },
     "execution_count": 26,
     "metadata": {},
     "output_type": "execute_result"
    }
   ],
   "source": [
    "tfidf.shape"
   ]
  },
  {
   "cell_type": "code",
   "execution_count": 27,
   "metadata": {},
   "outputs": [],
   "source": [
    "from sklearn.cluster import KMeans"
   ]
  },
  {
   "cell_type": "code",
   "execution_count": 28,
   "metadata": {},
   "outputs": [],
   "source": [
    "K = 6\n",
    "clusters = ['cluster#{}'.format(k) for k in range(K)]\n",
    "model = KMeans(n_clusters=K, random_state=314)"
   ]
  },
  {
   "cell_type": "code",
   "execution_count": 29,
   "metadata": {},
   "outputs": [
    {
     "name": "stderr",
     "output_type": "stream",
     "text": [
      "/home/wajeeh-machine/anaconda3/envs/mytf2/lib/python3.7/site-packages/sklearn/cluster/_kmeans.py:1133: ConvergenceWarning: Number of distinct clusters (1) found smaller than n_clusters (6). Possibly due to duplicate points in X.\n",
      "  return self.fit(X, sample_weight=sample_weight)._transform(X)\n"
     ]
    }
   ],
   "source": [
    "clustered = model.fit_transform(tfidf)"
   ]
  },
  {
   "cell_type": "code",
   "execution_count": 30,
   "metadata": {},
   "outputs": [
    {
     "data": {
      "text/plain": [
       "(17769, 6)"
      ]
     },
     "execution_count": 30,
     "metadata": {},
     "output_type": "execute_result"
    }
   ],
   "source": [
    "clustered.shape"
   ]
  },
  {
   "cell_type": "code",
   "execution_count": 31,
   "metadata": {},
   "outputs": [
    {
     "data": {
      "text/plain": [
       "(6, 10640)"
      ]
     },
     "execution_count": 31,
     "metadata": {},
     "output_type": "execute_result"
    }
   ],
   "source": [
    "model.cluster_centers_.shape"
   ]
  },
  {
   "cell_type": "code",
   "execution_count": 32,
   "metadata": {},
   "outputs": [],
   "source": [
    "cluster_term = pd.DataFrame(\n",
    "    model.cluster_centers_.T, index=ix2term, columns=clusters)\n",
    "cluster_term = np.round(cluster_term, decimals=4)"
   ]
  },
  {
   "cell_type": "code",
   "execution_count": 59,
   "metadata": {},
   "outputs": [
    {
     "data": {
      "text/plain": [
       "0.0    10640\n",
       "Name: cluster#1, dtype: int64"
      ]
     },
     "execution_count": 59,
     "metadata": {},
     "output_type": "execute_result"
    }
   ],
   "source": [
    "cluster_term[clusters[1]].value_counts()"
   ]
  },
  {
   "cell_type": "code",
   "execution_count": 33,
   "metadata": {},
   "outputs": [
    {
     "ename": "ZeroDivisionError",
     "evalue": "float division by zero",
     "output_type": "error",
     "traceback": [
      "\u001b[0;31m---------------------------------------------------------------------------\u001b[0m",
      "\u001b[0;31mZeroDivisionError\u001b[0m                         Traceback (most recent call last)",
      "\u001b[0;32m<ipython-input-33-b7cd453450cf>\u001b[0m in \u001b[0;36m<module>\u001b[0;34m\u001b[0m\n\u001b[1;32m      6\u001b[0m     \u001b[0;32mfor\u001b[0m \u001b[0mj\u001b[0m \u001b[0;32min\u001b[0m \u001b[0mrange\u001b[0m\u001b[0;34m(\u001b[0m\u001b[0mlen\u001b[0m\u001b[0;34m(\u001b[0m\u001b[0maxs\u001b[0m\u001b[0;34m[\u001b[0m\u001b[0mi\u001b[0m\u001b[0;34m]\u001b[0m\u001b[0;34m)\u001b[0m\u001b[0;34m)\u001b[0m\u001b[0;34m:\u001b[0m\u001b[0;34m\u001b[0m\u001b[0;34m\u001b[0m\u001b[0m\n\u001b[1;32m      7\u001b[0m         \u001b[0mwc\u001b[0m \u001b[0;34m=\u001b[0m \u001b[0mWordCloud\u001b[0m\u001b[0;34m(\u001b[0m\u001b[0mcolormap\u001b[0m\u001b[0;34m=\u001b[0m\u001b[0;34m'Greys'\u001b[0m\u001b[0;34m,\u001b[0m \u001b[0mbackground_color\u001b[0m\u001b[0;34m=\u001b[0m\u001b[0;34m'white'\u001b[0m\u001b[0;34m)\u001b[0m\u001b[0;34m\u001b[0m\u001b[0;34m\u001b[0m\u001b[0m\n\u001b[0;32m----> 8\u001b[0;31m         \u001b[0mim\u001b[0m \u001b[0;34m=\u001b[0m \u001b[0mwc\u001b[0m\u001b[0;34m.\u001b[0m\u001b[0mgenerate_from_frequencies\u001b[0m\u001b[0;34m(\u001b[0m\u001b[0mcluster_term\u001b[0m\u001b[0;34m[\u001b[0m\u001b[0mclusters\u001b[0m\u001b[0;34m[\u001b[0m\u001b[0mk\u001b[0m\u001b[0;34m]\u001b[0m\u001b[0;34m]\u001b[0m\u001b[0;34m)\u001b[0m\u001b[0;34m\u001b[0m\u001b[0;34m\u001b[0m\u001b[0m\n\u001b[0m\u001b[1;32m      9\u001b[0m         \u001b[0maxs\u001b[0m\u001b[0;34m[\u001b[0m\u001b[0mi\u001b[0m\u001b[0;34m]\u001b[0m\u001b[0;34m[\u001b[0m\u001b[0mj\u001b[0m\u001b[0;34m]\u001b[0m\u001b[0;34m.\u001b[0m\u001b[0mimshow\u001b[0m\u001b[0;34m(\u001b[0m\u001b[0mim\u001b[0m\u001b[0;34m,\u001b[0m \u001b[0minterpolation\u001b[0m\u001b[0;34m=\u001b[0m\u001b[0;34m'bilinear'\u001b[0m\u001b[0;34m)\u001b[0m\u001b[0;34m\u001b[0m\u001b[0;34m\u001b[0m\u001b[0m\n\u001b[1;32m     10\u001b[0m         \u001b[0maxs\u001b[0m\u001b[0;34m[\u001b[0m\u001b[0mi\u001b[0m\u001b[0;34m]\u001b[0m\u001b[0;34m[\u001b[0m\u001b[0mj\u001b[0m\u001b[0;34m]\u001b[0m\u001b[0;34m.\u001b[0m\u001b[0maxis\u001b[0m\u001b[0;34m(\u001b[0m\u001b[0;34m\"off\"\u001b[0m\u001b[0;34m)\u001b[0m\u001b[0;34m\u001b[0m\u001b[0;34m\u001b[0m\u001b[0m\n",
      "\u001b[0;32m~/anaconda3/envs/mytf2/lib/python3.7/site-packages/wordcloud/wordcloud.py\u001b[0m in \u001b[0;36mgenerate_from_frequencies\u001b[0;34m(self, frequencies, max_font_size)\u001b[0m\n\u001b[1;32m    409\u001b[0m \u001b[0;34m\u001b[0m\u001b[0m\n\u001b[1;32m    410\u001b[0m         frequencies = [(word, freq / max_frequency)\n\u001b[0;32m--> 411\u001b[0;31m                        for word, freq in frequencies]\n\u001b[0m\u001b[1;32m    412\u001b[0m \u001b[0;34m\u001b[0m\u001b[0m\n\u001b[1;32m    413\u001b[0m         \u001b[0;32mif\u001b[0m \u001b[0mself\u001b[0m\u001b[0;34m.\u001b[0m\u001b[0mrandom_state\u001b[0m \u001b[0;32mis\u001b[0m \u001b[0;32mnot\u001b[0m \u001b[0;32mNone\u001b[0m\u001b[0;34m:\u001b[0m\u001b[0;34m\u001b[0m\u001b[0;34m\u001b[0m\u001b[0m\n",
      "\u001b[0;32m~/anaconda3/envs/mytf2/lib/python3.7/site-packages/wordcloud/wordcloud.py\u001b[0m in \u001b[0;36m<listcomp>\u001b[0;34m(.0)\u001b[0m\n\u001b[1;32m    409\u001b[0m \u001b[0;34m\u001b[0m\u001b[0m\n\u001b[1;32m    410\u001b[0m         frequencies = [(word, freq / max_frequency)\n\u001b[0;32m--> 411\u001b[0;31m                        for word, freq in frequencies]\n\u001b[0m\u001b[1;32m    412\u001b[0m \u001b[0;34m\u001b[0m\u001b[0m\n\u001b[1;32m    413\u001b[0m         \u001b[0;32mif\u001b[0m \u001b[0mself\u001b[0m\u001b[0;34m.\u001b[0m\u001b[0mrandom_state\u001b[0m \u001b[0;32mis\u001b[0m \u001b[0;32mnot\u001b[0m \u001b[0;32mNone\u001b[0m\u001b[0;34m:\u001b[0m\u001b[0;34m\u001b[0m\u001b[0;34m\u001b[0m\u001b[0m\n",
      "\u001b[0;31mZeroDivisionError\u001b[0m: float division by zero"
     ]
    },
    {
     "data": {
      "image/png": "[encoded data removed]",
      "text/plain": [
       "<Figure size 720x576 with 6 Axes>"
      ]
     },
     "metadata": {
      "needs_background": "light"
     },
     "output_type": "display_data"
    }
   ],
   "source": [
    "font = {'weight' : 'bold', 'size' : 22}\n",
    "fig, axs = plt.subplots(K // 2, 2, figsize=(10, 8))\n",
    "\n",
    "k = 0\n",
    "for i in range(len(axs)):\n",
    "    for j in range(len(axs[i])):\n",
    "        wc = WordCloud(colormap='Greys', background_color='white')\n",
    "        im = wc.generate_from_frequencies(cluster_term[clusters[k]])\n",
    "        axs[i][j].imshow(im, interpolation='bilinear')\n",
    "        axs[i][j].axis(\"off\")\n",
    "        axs[i][j].set_title(clusters[k], **font)\n",
    "        k += 1\n",
    "plt.tight_layout()\n",
    "plt.show()"
   ]
  },
  {
   "cell_type": "code",
   "execution_count": null,
   "metadata": {},
   "outputs": [],
   "source": []
  },
  {
   "cell_type": "code",
   "execution_count": null,
   "metadata": {},
   "outputs": [],
   "source": []
  },
  {
   "cell_type": "code",
   "execution_count": null,
   "metadata": {},
   "outputs": [],
   "source": []
  },
  {
   "cell_type": "code",
   "execution_count": null,
   "metadata": {},
   "outputs": [],
   "source": []
  }
 ],
 "metadata": {
  "kernelspec": {
   "display_name": "Python 3.7.7 64-bit ('mytf2': conda)",
   "language": "python",
   "name": "python37764bitmytf2condad0e6e6c9b9bc4440a94687b08616bf38"
  },
  "language_info": {
   "codemirror_mode": {
    "name": "ipython",
    "version": 3
   },
   "file_extension": ".py",
   "mimetype": "text/x-python",
   "name": "python",
   "nbconvert_exporter": "python",
   "pygments_lexer": "ipython3",
   "version": "3.7.7"
  }
 },
 "nbformat": 4,
 "nbformat_minor": 4
}
