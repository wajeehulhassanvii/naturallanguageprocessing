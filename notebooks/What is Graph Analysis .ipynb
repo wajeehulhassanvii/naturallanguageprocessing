{
 "cells": [
  {
   "cell_type": "markdown",
   "metadata": {},
   "source": [
    "Graph analysis is a data analytic technique for determining strength and direction of relationships between object in a graph.<br>\n",
    "Graph models relation and process between objects.. They can represent complex models in our data. "
   ]
  },
  {
   "cell_type": "markdown",
   "metadata": {},
   "source": [
    "**GRAPH** are everywhere. Social networks such as LinkedIn, Facebook, and Twitter are graphs. The Internet and the World Wide Web are graphs. Computer networks are graphs. Water utility pipelines are graphs. Road networks are graphs. Graph processing frameworks such as GraphX have graph algorithms and operators specifically designed to deal with graph-oriented data."
   ]
  },
  {
   "cell_type": "markdown",
   "metadata": {},
   "source": [
    "undirected graphs can be traversed in both directions <br>directed graphs can go only in one direction<br>Directed multigraph has multiple edges b/w nodes<br>Property graph is directed multigraph where vertices and edges have user-defined attributes."
   ]
  },
  {
   "cell_type": "markdown",
   "metadata": {},
   "source": [
    "### Uses of graph analysis\n",
    "1. Fraud Detection and Anti-Money Laundering (AML)\n",
    "2. Data Governance and Regulatory Compliance\n",
    "3. Tisk Management\n",
    "4. Transportation\n",
    "5. Social Networking\n",
    "6. Network Infrastructure Management"
   ]
  },
  {
   "cell_type": "markdown",
   "metadata": {},
   "source": [
    "### GraphX\n",
    "GraphX is Spark’s RDD-based graph processing API. In addition to graph operators and algorithms, GraphX provides data types for storing graph data"
   ]
  },
  {
   "cell_type": "markdown",
   "metadata": {},
   "source": [
    "**Graph**: The property graph is represented by an instance of the graph class, like RDDs, property graphs are partitioned and distributed across executors and can be recreated in the event of a crash. Property graphs are immutable, which means creating a new graph is necessary to change the graph<br><br>\n",
    "**VertexRDD**: The vertices in a property graph are represented by a VertexRDD. Only one entry for each vertex is stored in VertexRDD.<br><br>\n",
    "**Edge**: Edge class contains the source and destination ids corresponding to the source and direction vertex identifiers as well as the attribute that store the edge property<br><br>\n",
    "**EdgeRDD**: The edges in a property graph are represented by an EdgeRDD<br><br>\n",
    "**EdgeTriplet**: A combination of an edge and the two vertices that it connects is represented by an instance of an EdgeTriplet class. It also contains the attribute of the edge and the vertices that it connects<br><br>\n",
    "**EdgeContext**: The EdgeContext class exposes the triplet fields as well as the functions to send message to the source and destination vertex<br><br>\n",
    "**GraphX Example**: We will use GraphX to analyze distance between cities in South California. We weill construct a property graph.<br><br>"
   ]
  }
 ],
 "metadata": {
  "kernelspec": {
   "display_name": "Python 3",
   "language": "python",
   "name": "python3"
  },
  "language_info": {
   "codemirror_mode": {
    "name": "ipython",
    "version": 3
   },
   "file_extension": ".py",
   "mimetype": "text/x-python",
   "name": "python",
   "nbconvert_exporter": "python",
   "pygments_lexer": "ipython3",
   "version": "3.7.6"
  }
 },
 "nbformat": 4,
 "nbformat_minor": 4
}
